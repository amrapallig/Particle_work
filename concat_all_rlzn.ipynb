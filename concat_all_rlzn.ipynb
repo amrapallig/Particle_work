{
 "cells": [
  {
   "cell_type": "code",
   "execution_count": 12,
   "metadata": {},
   "outputs": [],
   "source": [
    "#learning xarray\n",
    "import numpy as np\n",
    "import netCDF4\n",
    "import matplotlib.pyplot as plt\n",
    "from cartopy import config\n",
    "import cartopy.crs as ccrs\n",
    "#matplotlib.use('Agg')\n",
    "from cartopy.mpl.gridliner import LONGITUDE_FORMATTER, LATITUDE_FORMATTER\n",
    "from scipy import stats\n",
    "import time\n",
    "#import numexpr as ne\n",
    "import xarray as xr\n",
    "rEarth = 6371220. #in m ##  get from file variable #f_in.sphere_radius\n",
    "import glob\n",
    "from netCDF4 import Dataset\n",
    "import _pickle as pickle\n",
    "\n",
    "\n",
    "#concat all 2d to 3d to include all realizations in one array.\n",
    "def concat_allrlzn(a1,a2,a3,a4,a5,a6,a7,a8,a9,a10,a11):\n",
    "    max_shape = [0,0]\n",
    "    for a in [a1,a2,a3,a4,a5,a6,a7,a8,a9,a10,a11]:\n",
    "        if max_shape[0] < a.shape[0]:\n",
    "            max_shape[0] = a.shape[0]\n",
    "        if max_shape[1] < a.shape[1]:\n",
    "            max_shape[1] = a.shape[1]\n",
    "    arrays = []\n",
    "\n",
    "    for a in [a1,a2,a3,a4,a5,a6,a7,a8,a9,a10,a11]:\n",
    "        arrays.append(np.pad(a, pad_width=((0, max_shape[0] - a.shape[0]),\n",
    "                                       (0, max_shape[1] - a.shape[1])),\n",
    "                         mode='constant'))\n",
    "    allrlzn = np.stack(arrays)\n",
    "    \n",
    "    return allrlzn"
   ]
  },
  {
   "cell_type": "code",
   "execution_count": 13,
   "metadata": {},
   "outputs": [],
   "source": [
    "mux  =(concat_allrlzn(pickle.load(open(\"mux_81_1028.p\",\"rb\")),pickle.load(open(\"mux_82_1028.p\",\"rb\")),pickle.load(open(\"mux_83_1028.p\",\"rb\")),pickle.load(open(\"mux_84_1028.p\",\"rb\")),pickle.load(open(\"mux_85_1028.p\",\"rb\")),pickle.load(open(\"mux_86_1028.p\",\"rb\")),pickle.load(open(\"mux_88_1028.p\",\"rb\")),pickle.load(open(\"mux_83_6_1028.p\",\"rb\")),pickle.load(open(\"mux_84_6_1028.p\",\"rb\")),pickle.load(open(\"mux_85_6_1028.p\",\"rb\")),pickle.load(open(\"mux_86_6_1028.p\",\"rb\"))))\n",
    "muy  =(concat_allrlzn(pickle.load(open(\"muy_81_1028.p\",\"rb\")),pickle.load(open(\"muy_82_1028.p\",\"rb\")),pickle.load(open(\"muy_83_1028.p\",\"rb\")),pickle.load(open(\"muy_84_1028.p\",\"rb\")),pickle.load(open(\"muy_85_1028.p\",\"rb\")),pickle.load(open(\"muy_86_1028.p\",\"rb\")),pickle.load(open(\"muy_88_1028.p\",\"rb\")),pickle.load(open(\"muy_83_6_1028.p\",\"rb\")),pickle.load(open(\"muy_84_6_1028.p\",\"rb\")),pickle.load(open(\"muy_85_6_1028.p\",\"rb\")),pickle.load(open(\"muy_86_6_1028.p\",\"rb\"))))\n",
    "urms =(concat_allrlzn(pickle.load(open(\"urms_81_1028.p\",\"rb\")),pickle.load(open(\"urms_82_1028.p\",\"rb\")),pickle.load(open(\"urms_83_1028.p\",\"rb\")),pickle.load(open(\"urms_84_1028.p\",\"rb\")),pickle.load(open(\"urms_85_1028.p\",\"rb\")),pickle.load(open(\"urms_86_1028.p\",\"rb\")),pickle.load(open(\"urms_88_1028.p\",\"rb\")),pickle.load(open(\"urms_83_6_1028.p\",\"rb\")),pickle.load(open(\"urms_84_6_1028.p\",\"rb\")),pickle.load(open(\"urms_85_6_1028.p\",\"rb\")),pickle.load(open(\"urms_86_6_1028.p\",\"rb\"))))\n",
    "vrms =(concat_allrlzn(pickle.load(open(\"vrms_81_1028.p\",\"rb\")),pickle.load(open(\"vrms_82_1028.p\",\"rb\")),pickle.load(open(\"vrms_83_1028.p\",\"rb\")),pickle.load(open(\"vrms_84_1028.p\",\"rb\")),pickle.load(open(\"vrms_85_1028.p\",\"rb\")),pickle.load(open(\"vrms_86_1028.p\",\"rb\")),pickle.load(open(\"vrms_88_1028.p\",\"rb\")),pickle.load(open(\"vrms_83_6_1028.p\",\"rb\")),pickle.load(open(\"vrms_84_6_1028.p\",\"rb\")),pickle.load(open(\"vrms_85_6_1028.p\",\"rb\")),pickle.load(open(\"vrms_86_6_1028.p\",\"rb\"))))\n",
    "Npart=(concat_allrlzn(pickle.load(open(\"Npart_81_1028.p\",\"rb\")),pickle.load(open(\"Npart_82_1028.p\",\"rb\")),pickle.load(open(\"Npart_83_1028.p\",\"rb\")),pickle.load(open(\"Npart_84_1028.p\",\"rb\")),pickle.load(open(\"Npart_85_1028.p\",\"rb\")),pickle.load(open(\"Npart_86_1028.p\",\"rb\")),pickle.load(open(\"Npart_88_1028.p\",\"rb\")),pickle.load(open(\"Npart_83_6_1028.p\",\"rb\")),pickle.load(open(\"Npart_84_6_1028.p\",\"rb\")),pickle.load(open(\"Npart_85_6_1028.p\",\"rb\")),pickle.load(open(\"Npart_86_6_1028.p\",\"rb\"))))\n",
    "umean=(concat_allrlzn(pickle.load(open(\"umean_81_1028.p\",\"rb\")),pickle.load(open(\"umean_82_1028.p\",\"rb\")),pickle.load(open(\"umean_83_1028.p\",\"rb\")),pickle.load(open(\"umean_84_1028.p\",\"rb\")),pickle.load(open(\"umean_85_1028.p\",\"rb\")),pickle.load(open(\"umean_86_1028.p\",\"rb\")),pickle.load(open(\"umean_88_1028.p\",\"rb\")),pickle.load(open(\"umean_83_6_1028.p\",\"rb\")),pickle.load(open(\"umean_84_6_1028.p\",\"rb\")),pickle.load(open(\"umean_85_6_1028.p\",\"rb\")),pickle.load(open(\"umean_86_6_1028.p\",\"rb\"))))\n",
    "vmean=(concat_allrlzn(pickle.load(open(\"vmean_81_1028.p\",\"rb\")),pickle.load(open(\"vmean_82_1028.p\",\"rb\")),pickle.load(open(\"vmean_83_1028.p\",\"rb\")),pickle.load(open(\"vmean_84_1028.p\",\"rb\")),pickle.load(open(\"vmean_85_1028.p\",\"rb\")),pickle.load(open(\"vmean_86_1028.p\",\"rb\")),pickle.load(open(\"vmean_88_1028.p\",\"rb\")),pickle.load(open(\"vmean_83_6_1028.p\",\"rb\")),pickle.load(open(\"vmean_84_6_1028.p\",\"rb\")),pickle.load(open(\"vmean_85_6_1028.p\",\"rb\")),pickle.load(open(\"vmean_86_6_1028.p\",\"rb\"))))\n",
    "drdr =(concat_allrlzn(pickle.load(open(\"drdr_81_1028.p\",\"rb\")),pickle.load(open(\"drdr_82_1028.p\",\"rb\")),pickle.load(open(\"drdr_83_1028.p\",\"rb\")),pickle.load(open(\"drdr_84_1028.p\",\"rb\")),pickle.load(open(\"drdr_85_1028.p\",\"rb\")),pickle.load(open(\"drdr_86_1028.p\",\"rb\")),pickle.load(open(\"drdr_88_1028.p\",\"rb\")),pickle.load(open(\"drdr_83_6_1028.p\",\"rb\")),pickle.load(open(\"drdr_84_6_1028.p\",\"rb\")),pickle.load(open(\"drdr_85_6_1028.p\",\"rb\")),pickle.load(open(\"drdr_86_6_1028.p\",\"rb\"))))\n",
    "dxdx =(concat_allrlzn(pickle.load(open(\"dxdx_81_1028.p\",\"rb\")),pickle.load(open(\"dxdx_82_1028.p\",\"rb\")),pickle.load(open(\"dxdx_83_1028.p\",\"rb\")),pickle.load(open(\"dxdx_84_1028.p\",\"rb\")),pickle.load(open(\"dxdx_85_1028.p\",\"rb\")),pickle.load(open(\"dxdx_86_1028.p\",\"rb\")),pickle.load(open(\"dxdx_88_1028.p\",\"rb\")),pickle.load(open(\"dxdx_83_6_1028.p\",\"rb\")),pickle.load(open(\"dxdx_84_6_1028.p\",\"rb\")),pickle.load(open(\"dxdx_85_6_1028.p\",\"rb\")),pickle.load(open(\"dxdx_86_6_1028.p\",\"rb\"))))\n",
    "dxdy =(concat_allrlzn(pickle.load(open(\"dxdy_81_1028.p\",\"rb\")),pickle.load(open(\"dxdy_82_1028.p\",\"rb\")),pickle.load(open(\"dxdy_83_1028.p\",\"rb\")),pickle.load(open(\"dxdy_84_1028.p\",\"rb\")),pickle.load(open(\"dxdy_85_1028.p\",\"rb\")),pickle.load(open(\"dxdy_86_1028.p\",\"rb\")),pickle.load(open(\"dxdy_88_1028.p\",\"rb\")),pickle.load(open(\"dxdy_83_6_1028.p\",\"rb\")),pickle.load(open(\"dxdy_84_6_1028.p\",\"rb\")),pickle.load(open(\"dxdy_85_6_1028.p\",\"rb\")),pickle.load(open(\"dxdy_86_6_1028.p\",\"rb\"))))\n",
    "dydy =(concat_allrlzn(pickle.load(open(\"dydy_81_1028.p\",\"rb\")),pickle.load(open(\"dydy_82_1028.p\",\"rb\")),pickle.load(open(\"dydy_83_1028.p\",\"rb\")),pickle.load(open(\"dydy_84_1028.p\",\"rb\")),pickle.load(open(\"dydy_85_1028.p\",\"rb\")),pickle.load(open(\"dydy_86_1028.p\",\"rb\")),pickle.load(open(\"dydy_88_1028.p\",\"rb\")),pickle.load(open(\"dydy_83_6_1028.p\",\"rb\")),pickle.load(open(\"dydy_84_6_1028.p\",\"rb\")),pickle.load(open(\"dydy_85_6_1028.p\",\"rb\")),pickle.load(open(\"dydy_86_6_1028.p\",\"rb\"))))\n",
    "depth =(concat_allrlzn(pickle.load(open(\"depth_81_1028.p\",\"rb\")),pickle.load(open(\"depth_82_1028.p\",\"rb\")),pickle.load(open(\"depth_83_1028.p\",\"rb\")),pickle.load(open(\"depth_84_1028.p\",\"rb\")),pickle.load(open(\"depth_85_1028.p\",\"rb\")),pickle.load(open(\"depth_86_1028.p\",\"rb\")),pickle.load(open(\"depth_88_1028.p\",\"rb\")),pickle.load(open(\"depth_83_6_1028.p\",\"rb\")),pickle.load(open(\"depth_84_6_1028.p\",\"rb\")),pickle.load(open(\"depth_85_6_1028.p\",\"rb\")),pickle.load(open(\"depth_86_6_1028.p\",\"rb\"))))\n",
    "\n"
   ]
  },
  {
   "cell_type": "code",
   "execution_count": 14,
   "metadata": {},
   "outputs": [],
   "source": [
    "pickle.dump(mux,open(\"./d_1027_c_1d_r50/mux.p\",\"wb\"))\n",
    "pickle.dump(muy,open(\"./d_1027_c_1d_r50/muy.p\",\"wb\"))\n",
    "pickle.dump(dxdx,open(\"./d_1027_c_1d_r50/dxdx.p\",\"wb\"))\n",
    "pickle.dump(dydy,open(\"./d_1027_c_1d_r50/dydy.p\",\"wb\"))\n",
    "pickle.dump(dxdy,open(\"./d_1027_c_1d_r50/dxdy.p\",\"wb\"))\n",
    "pickle.dump(drdr,open(\"./d_1027_c_1d_r50/drdr.p\",\"wb\"))\n",
    "pickle.dump(Npart,open(\"./d_1027_c_1d_r50/Npart.p\",\"wb\"))\n",
    "pickle.dump(depth,open(\"./d_1027_c_1d_r50/depth.p\",\"wb\"))\n",
    "pickle.dump(urms,open(\"./d_1027_c_1d_r50/urms.p\",\"wb\"))\n",
    "pickle.dump(vrms,open(\"./d_1027_c_1d_r50/vrms.p\",\"wb\"))\n",
    "pickle.dump(umean,open(\"./d_1027_c_1d_r50/umean.p\",\"wb\"))\n",
    "pickle.dump(vmean,open(\"./d_1027_c_1d_r50/vmean.p\",\"wb\"))    "
   ]
  },
  {
   "cell_type": "code",
   "execution_count": 9,
   "metadata": {},
   "outputs": [
    {
     "data": {
      "text/plain": [
       "(array([1576.,  182.,  172.,  759., 1172., 1078.,  977.,  893.,  875.,\n",
       "         917.]),\n",
       " array([  0. ,  63.3, 126.6, 189.9, 253.2, 316.5, 379.8, 443.1, 506.4,\n",
       "        569.7, 633. ]),\n",
       " <BarContainer object of 10 artists>)"
      ]
     },
     "execution_count": 9,
     "metadata": {},
     "output_type": "execute_result"
    },
    {
     "data": {
      "image/png": "[encoded data removed]",
      "text/plain": [
       "<Figure size 432x288 with 1 Axes>"
      ]
     },
     "metadata": {
      "needs_background": "light"
     },
     "output_type": "display_data"
    }
   ],
   "source": [
    "\n",
    "plt.hist(Npart[0,0,:])\n"
   ]
  },
  {
   "cell_type": "code",
   "execution_count": null,
   "metadata": {},
   "outputs": [],
   "source": []
  }
 ],
 "metadata": {
  "kernelspec": {
   "display_name": "Python 3",
   "language": "python",
   "name": "python3"
  },
  "language_info": {
   "codemirror_mode": {
    "name": "ipython",
    "version": 3
   },
   "file_extension": ".py",
   "mimetype": "text/x-python",
   "name": "python",
   "nbconvert_exporter": "python",
   "pygments_lexer": "ipython3",
   "version": "3.7.9"
  }
 },
 "nbformat": 4,
 "nbformat_minor": 4
}
